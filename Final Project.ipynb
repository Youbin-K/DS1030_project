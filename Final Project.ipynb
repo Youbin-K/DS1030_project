{
 "cells": [
  {
   "cell_type": "code",
   "execution_count": 1,
   "id": "ff7bcad6",
   "metadata": {},
   "outputs": [],
   "source": [
    "import pandas as pd\n",
    "import matplotlib.pyplot as plt\n",
    "import numpy as np\n",
    "import matplotlib.pyplot as plt\n",
    "import seaborn as sns"
   ]
  },
  {
   "cell_type": "code",
   "execution_count": 2,
   "id": "ac99f929",
   "metadata": {},
   "outputs": [],
   "source": [
    "df = pd.read_csv('Drug_Consumption.csv')\n",
    "#df = df.drop(['ID', 'Alcohol', 'Amyl','Caff','Choc','Ketamine','Legalh','Nicotine','VSA'], axis=1)\n",
    "df = df.drop(['ID', 'Alcohol', 'Amyl','Caff','Choc','Ketamine','Legalh','VSA'], axis=1)"
   ]
  },
  {
   "cell_type": "markdown",
   "id": "89b75a39",
   "metadata": {},
   "source": [
    "## EDA"
   ]
  },
  {
   "cell_type": "code",
   "execution_count": 3,
   "id": "8b8c2dbc",
   "metadata": {},
   "outputs": [
    {
     "name": "stdout",
     "output_type": "stream",
     "text": [
      "     Age Gender                          Education Country Ethnicity   Nscore  \\\n",
      "0  25-34      M                   Doctorate degree      UK     White -0.67825   \n",
      "1  35-44      M  Professional certificate/ diploma      UK     White -0.46725   \n",
      "2  18-24      F                     Masters degree      UK     White -0.14882   \n",
      "3  35-44      F                   Doctorate degree      UK     White  0.73545   \n",
      "4    65+      F            Left school at 18 years  Canada     White -0.67825   \n",
      "\n",
      "    Escore   Oscore   Ascore   Cscore  ...  Benzos  Cannabis Coke Crack  \\\n",
      "0  1.93886  1.43533  0.76096 -0.14277  ...     CL0       CL4  CL3   CL0   \n",
      "1  0.80523 -0.84732 -1.62090 -1.01450  ...     CL0       CL3  CL0   CL0   \n",
      "2 -0.80615 -0.01928  0.59042  0.58489  ...     CL3       CL2  CL2   CL0   \n",
      "3 -1.63340 -0.45174 -0.30172  1.30612  ...     CL0       CL3  CL0   CL0   \n",
      "4 -0.30033 -1.55521  2.03972  1.63088  ...     CL0       CL0  CL0   CL0   \n",
      "\n",
      "  Ecstasy Heroin  LSD Meth Mushrooms Nicotine  \n",
      "0     CL4    CL0  CL2  CL3       CL0      CL4  \n",
      "1     CL0    CL0  CL0  CL0       CL1      CL0  \n",
      "2     CL0    CL0  CL0  CL0       CL0      CL2  \n",
      "3     CL1    CL0  CL0  CL0       CL2      CL2  \n",
      "4     CL0    CL0  CL0  CL0       CL0      CL6  \n",
      "\n",
      "[5 rows x 23 columns]\n"
     ]
    }
   ],
   "source": [
    "print (df.head())"
   ]
  },
  {
   "cell_type": "code",
   "execution_count": 4,
   "id": "9fffae48",
   "metadata": {},
   "outputs": [
    {
     "name": "stdout",
     "output_type": "stream",
     "text": [
      "        Age Gender                                          Education  \\\n",
      "0     25-34      M                                   Doctorate degree   \n",
      "1     35-44      M                  Professional certificate/ diploma   \n",
      "2     18-24      F                                     Masters degree   \n",
      "3     35-44      F                                   Doctorate degree   \n",
      "4       65+      F                            Left school at 18 years   \n",
      "...     ...    ...                                                ...   \n",
      "1879  18-24      F  Some college or university, no certificate or ...   \n",
      "1880  18-24      M  Some college or university, no certificate or ...   \n",
      "1881  25-34      F                                  University degree   \n",
      "1882  18-24      F  Some college or university, no certificate or ...   \n",
      "1883  18-24      M  Some college or university, no certificate or ...   \n",
      "\n",
      "                  Country Ethnicity   Nscore   Escore   Oscore   Ascore  \\\n",
      "0                      UK     White -0.67825  1.93886  1.43533  0.76096   \n",
      "1                      UK     White -0.46725  0.80523 -0.84732 -1.62090   \n",
      "2                      UK     White -0.14882 -0.80615 -0.01928  0.59042   \n",
      "3                      UK     White  0.73545 -1.63340 -0.45174 -0.30172   \n",
      "4                  Canada     White -0.67825 -0.30033 -1.55521  2.03972   \n",
      "...                   ...       ...      ...      ...      ...      ...   \n",
      "1879                  USA     White -1.19430  1.74091  1.88511  0.76096   \n",
      "1880                  USA     White -0.24649  1.74091  0.58331  0.76096   \n",
      "1881                  USA     White  1.13281 -1.37639 -1.27553 -1.77200   \n",
      "1882                  USA     White  0.91093 -1.92173  0.29338 -1.62090   \n",
      "1883  Republic of Ireland     White -0.46725  2.12700  1.65653  1.11406   \n",
      "\n",
      "       Cscore  ...  Benzos  Cannabis Coke Crack Ecstasy Heroin  LSD Meth  \\\n",
      "0    -0.14277  ...     CL0       CL4  CL3   CL0     CL4    CL0  CL2  CL3   \n",
      "1    -1.01450  ...     CL0       CL3  CL0   CL0     CL0    CL0  CL0  CL0   \n",
      "2     0.58489  ...     CL3       CL2  CL2   CL0     CL0    CL0  CL0  CL0   \n",
      "3     1.30612  ...     CL0       CL3  CL0   CL0     CL1    CL0  CL0  CL0   \n",
      "4     1.63088  ...     CL0       CL0  CL0   CL0     CL0    CL0  CL0  CL0   \n",
      "...       ...  ...     ...       ...  ...   ...     ...    ...  ...  ...   \n",
      "1879 -1.13788  ...     CL0       CL5  CL0   CL0     CL0    CL0  CL3  CL0   \n",
      "1880 -1.51840  ...     CL0       CL3  CL0   CL0     CL2    CL0  CL5  CL4   \n",
      "1881 -1.38502  ...     CL5       CL6  CL4   CL0     CL4    CL0  CL2  CL0   \n",
      "1882 -2.57309  ...     CL0       CL6  CL0   CL0     CL3    CL0  CL3  CL0   \n",
      "1883  0.41594  ...     CL3       CL3  CL3   CL0     CL3    CL0  CL3  CL0   \n",
      "\n",
      "     Mushrooms Nicotine  \n",
      "0          CL0      CL4  \n",
      "1          CL1      CL0  \n",
      "2          CL0      CL2  \n",
      "3          CL2      CL2  \n",
      "4          CL0      CL6  \n",
      "...        ...      ...  \n",
      "1879       CL0      CL0  \n",
      "1880       CL4      CL5  \n",
      "1881       CL2      CL6  \n",
      "1882       CL3      CL4  \n",
      "1883       CL3      CL6  \n",
      "\n",
      "[1884 rows x 23 columns]\n"
     ]
    }
   ],
   "source": [
    "print (df)"
   ]
  },
  {
   "cell_type": "code",
   "execution_count": 5,
   "id": "9625edbe",
   "metadata": {},
   "outputs": [
    {
     "data": {
      "text/plain": [
       "0"
      ]
     },
     "execution_count": 5,
     "metadata": {},
     "output_type": "execute_result"
    }
   ],
   "source": [
    "# Check for missing value\n",
    "df.isna().sum().sum()"
   ]
  },
  {
   "cell_type": "code",
   "execution_count": 6,
   "id": "1114cdf8",
   "metadata": {},
   "outputs": [
    {
     "name": "stdout",
     "output_type": "stream",
     "text": [
      "Age           object\n",
      "Gender        object\n",
      "Education     object\n",
      "Country       object\n",
      "Ethnicity     object\n",
      "Nscore       float64\n",
      "Escore       float64\n",
      "Oscore       float64\n",
      "Ascore       float64\n",
      "Cscore       float64\n",
      "Impulsive    float64\n",
      "SS           float64\n",
      "Amphet        object\n",
      "Benzos        object\n",
      "Cannabis      object\n",
      "Coke          object\n",
      "Crack         object\n",
      "Ecstasy       object\n",
      "Heroin        object\n",
      "LSD           object\n",
      "Meth          object\n",
      "Mushrooms     object\n",
      "Nicotine      object\n",
      "dtype: object\n"
     ]
    }
   ],
   "source": [
    "print (df.dtypes)"
   ]
  },
  {
   "cell_type": "code",
   "execution_count": 7,
   "id": "bc88f1fb",
   "metadata": {},
   "outputs": [],
   "source": [
    "# df_index_never_used = df.set_index('Crack', drop = False)\n",
    "# print (df_index_never_used.loc['CL0'].head())"
   ]
  },
  {
   "cell_type": "code",
   "execution_count": 11,
   "id": "97009104",
   "metadata": {},
   "outputs": [
    {
     "data": {
      "text/plain": [
       "<matplotlib.legend.Legend at 0x10e3aba30>"
      ]
     },
     "execution_count": 11,
     "metadata": {},
     "output_type": "execute_result"
    },
    {
     "data": {
      "image/png": "[encoded data removed]",
      "text/plain": [
       "<Figure size 640x480 with 1 Axes>"
      ]
     },
     "metadata": {},
     "output_type": "display_data"
    }
   ],
   "source": [
    "age_data = df[\"Education\"].value_counts()\n",
    "ax = age_data.plot(kind=\"pie\", autopct='%1.1f%%', legend=True, title='Education distribution', ylabel='', labeldistance=None)\n",
    "\n",
    "ax.legend(bbox_to_anchor=(0.9, 0.9), loc='upper left')"
   ]
  },
  {
   "cell_type": "code",
   "execution_count": 9,
   "id": "7c2ec203",
   "metadata": {},
   "outputs": [
    {
     "data": {
      "text/plain": [
       "<matplotlib.legend.Legend at 0x16265d840>"
      ]
     },
     "execution_count": 9,
     "metadata": {},
     "output_type": "execute_result"
    },
    {
     "data": {
      "image/png": "[encoded data removed]",
      "text/plain": [
       "<Figure size 640x480 with 1 Axes>"
      ]
     },
     "metadata": {},
     "output_type": "display_data"
    }
   ],
   "source": [
    "edu_data = df['Gender'].value_counts()\n",
    "ax = edu_data.plot(kind=\"pie\", autopct='%1.1f%%', legend=True, title='Gender distribution', ylabel='', labeldistance=None)\n",
    "ax.legend(bbox_to_anchor=(0.9, 0.9), loc='upper left')"
   ]
  },
  {
   "cell_type": "code",
   "execution_count": null,
   "id": "64a0d533",
   "metadata": {},
   "outputs": [],
   "source": [
    "#test_df = df['']\n",
    "#test_df = pd.DataFrame(data,columns=['Education','Oscore'])\n",
    "#fig, ax = plt.subplots()O\n",
    "plt.figure(figsize=(5,3))\n",
    "#df[['Escore','Age']].plot()\n",
    "#test_df.plot()\n",
    "\n",
    "#df.plot.box(x=df['Education'], y='Oscore')\n",
    "\n",
    "df.boxplot(by ='Education', column =['Cscore'],showfliers=False,grid = False, vert = False)\n",
    "\n",
    "#df.T.boxplot(vert=False)\n",
    "\n",
    "\n",
    "\n",
    "plt.title('Education vs Diligent score')\n",
    "plt.xlabel('Diligent value')\n",
    "#fig.autofmt_xdate()\n",
    "\n",
    "plt.show()"
   ]
  },
  {
   "cell_type": "code",
   "execution_count": null,
   "id": "9af2cf5b",
   "metadata": {},
   "outputs": [],
   "source": [
    "# Education replacement\n",
    "df.replace(to_replace =\"Left school before 16 years\", \n",
    "           value = \"0\", \n",
    "           inplace = True)\n",
    "df.replace(to_replace =\"Left school at 16 years\", \n",
    "           value = \"1\", \n",
    "           inplace = True)\n",
    "df.replace(to_replace =\"Left school at 17 years\",\n",
    "           value = \"2\", \n",
    "           inplace = True)\n",
    "df.replace(to_replace =\"Left school at 18 years\",\n",
    "           value = \"3\", \n",
    "           inplace = True)\n",
    "df.replace(to_replace =\"Some college or university, no certificate or degree\",\n",
    "           value = \"4\", \n",
    "           inplace = True)\n",
    "df.replace(to_replace =\"Professional certificate/ diploma\",\n",
    "           value = \"5\", \n",
    "           inplace = True)\n",
    "df.replace(to_replace =\"University degree\",\n",
    "           value = \"6\", \n",
    "           inplace = True)\n",
    "df.replace(to_replace =\"Masters degree\",\n",
    "           value = \"7\", \n",
    "           inplace = True)\n",
    "df.replace(to_replace =\"Doctorate degree\",\n",
    "           value = \"8\", \n",
    "           inplace = True)\n",
    "\n",
    "# Gender replacement\n",
    "df.replace(to_replace =\"M\", \n",
    "           value = \"0\", \n",
    "           inplace = True)\n",
    "df.replace(to_replace =\"F\", \n",
    "           value = \"1\", \n",
    "           inplace = True)\n",
    "\n",
    "# Drug usage replacement\n",
    "# df.replace(to_replace =\"CL0\", \n",
    "#            value = \"0\", \n",
    "#            inplace = True)\n",
    "# df.replace(to_replace =\"CL1\", \n",
    "#            value = \"1\", \n",
    "#            inplace = True)\n",
    "# df.replace(to_replace =\"CL2\",\n",
    "#            value = \"2\", \n",
    "#            inplace = True)\n",
    "# df.replace(to_replace =\"CL3\",\n",
    "#            value = \"3\", \n",
    "#            inplace = True)\n",
    "# df.replace(to_replace =\"CL4\",\n",
    "#            value = \"4\", \n",
    "#            inplace = True)\n",
    "# df.replace(to_replace =\"CL5\",\n",
    "#            value = \"5\", \n",
    "#            inplace = True)\n",
    "# df.replace(to_replace =\"CL6\",\n",
    "#            value = \"6\", \n",
    "#            inplace = True)\n",
    "\n",
    "# AGE replacement\n",
    "df.replace(to_replace =\"18-24\", \n",
    "           value = \"0\", \n",
    "           inplace = True)\n",
    "df.replace(to_replace =\"25-34\", \n",
    "           value = \"1\", \n",
    "           inplace = True)\n",
    "df.replace(to_replace =\"35-44\",\n",
    "           value = \"2\", \n",
    "           inplace = True)\n",
    "df.replace(to_replace =\"45-54\",\n",
    "           value = \"3\", \n",
    "           inplace = True)\n",
    "df.replace(to_replace =\"55-64\",\n",
    "           value = \"4\", \n",
    "           inplace = True)\n",
    "df.replace(to_replace =\"65+\",\n",
    "           value = \"5\", \n",
    "           inplace = True)\n",
    "\n",
    "df['Education'] = df['Education'].astype(str).astype(int)\n",
    "\n",
    "\n",
    "\n",
    "\n",
    "# df['Gender'] = df['Gender'].astype(str).astype(int)\n",
    "\n",
    "# df['Cannabis'] = df['Cannabis'].astype(str).astype(int)\n",
    "# df['Crack'] = df['Crack'].astype(str).astype(int)\n",
    "# df['Coke'] = df['Coke'].astype(str).astype(int)\n",
    "\n",
    "\n",
    "\n",
    "print ('Education: ',df['Education'].dtypes)\n",
    "print ('Gender: ',df['Gender'].dtypes)\n",
    "print ('Cannabis: ',df['Cannabis'].dtypes)\n",
    "print ('Age: ',df['Age'].dtypes)\n",
    "print ('Country: ',df['Country'].dtypes)\n",
    "\n",
    "\n",
    "print (df.head())"
   ]
  },
  {
   "cell_type": "code",
   "execution_count": null,
   "id": "1dcf3070",
   "metadata": {},
   "outputs": [],
   "source": [
    "Countries = ['Australia','Canada','New Zealand','Other', 'Republic of Ireland','UK','USA']\n",
    "\n",
    "def country_encoder(x):\n",
    "    if x == 'Australia':\n",
    "        return 0\n",
    "    elif x == 'Canada':\n",
    "        return 1\n",
    "    elif x == 'New Zealand':\n",
    "        return 2\n",
    "    elif x == 'Other':\n",
    "        return 3\n",
    "    elif x == 'Republic of Ireland':\n",
    "        return 4\n",
    "    elif x == 'UK':\n",
    "        return 5\n",
    "    else:\n",
    "        return 6\n",
    "    \n",
    "df['Country'] = df['Country'].apply(country_encoder)\n",
    "\n",
    "print ('Country: ',df['Country'].dtypes)"
   ]
  },
  {
   "cell_type": "code",
   "execution_count": null,
   "id": "3442438c",
   "metadata": {},
   "outputs": [],
   "source": [
    "Ethnicity = ['White','Asian','Mixed-White/Asian','Mixed-White/Black','Other']\n",
    "\n",
    "def ethnicity_encoder(x):\n",
    "    if x == 'White':\n",
    "        return 0\n",
    "    elif x == 'Asian':\n",
    "        return 1\n",
    "    elif x == 'Mixed-White/Asian':\n",
    "        return 2\n",
    "    elif x == 'Other':\n",
    "        return 3\n",
    "    elif x == 'Mixed-White/Black':\n",
    "        return 4\n",
    "    else:\n",
    "        return 5\n",
    "\n",
    "    \n",
    "df['Ethnicity'] = df['Ethnicity'].apply(ethnicity_encoder)\n",
    "\n",
    "print ('Ethnicity: ',df['Ethnicity'].dtypes)"
   ]
  },
  {
   "cell_type": "code",
   "execution_count": null,
   "id": "98cc4991",
   "metadata": {},
   "outputs": [],
   "source": [
    "print (df.head())"
   ]
  },
  {
   "cell_type": "code",
   "execution_count": null,
   "id": "87f1a24a",
   "metadata": {},
   "outputs": [],
   "source": [
    "pd.value_counts(df['Cannabis'])"
   ]
  },
  {
   "cell_type": "code",
   "execution_count": null,
   "id": "e5b476a3",
   "metadata": {},
   "outputs": [],
   "source": [
    "#pd.value_counts(df['Meth'])"
   ]
  },
  {
   "cell_type": "code",
   "execution_count": null,
   "id": "0674d22c",
   "metadata": {},
   "outputs": [],
   "source": [
    "plt.figure(figsize=(5,3))\n",
    "\n",
    "pd.value_counts(df['Cannabis']).plot.barh()\n",
    "plt.title('Cannabis usage')\n",
    "plt.xlabel('Number of data points')\n",
    "\n",
    "plt.show()"
   ]
  },
  {
   "cell_type": "code",
   "execution_count": null,
   "id": "97e51ed5",
   "metadata": {},
   "outputs": [],
   "source": []
  },
  {
   "cell_type": "code",
   "execution_count": null,
   "id": "2df78c5e",
   "metadata": {},
   "outputs": [],
   "source": [
    "count_matrix = df.groupby(['Coke','Crack']).size().unstack()\n",
    "\n",
    "count_matrix_norm = count_matrix.div(count_matrix.sum(axis=1), axis=0)\n",
    "print (count_matrix_norm)"
   ]
  },
  {
   "cell_type": "code",
   "execution_count": null,
   "id": "a97f2c47",
   "metadata": {},
   "outputs": [],
   "source": [
    "plt.figure(figsize=(5,3))\n",
    "count_matrix_norm.plot(kind='bar', stacked=True)\n",
    "\n",
    "plt.title('Frequency of using Crack on people using Coke')\n",
    "plt.ylabel('fraction of people')\n",
    "plt.xlabel('Coke and Crack usage')\n",
    "plt.legend(loc='upper center', bbox_to_anchor=(1.1, 1))\n",
    "\n",
    "plt.show()"
   ]
  },
  {
   "cell_type": "code",
   "execution_count": null,
   "id": "b11b2c3b",
   "metadata": {},
   "outputs": [],
   "source": [
    "count_matrix = df.groupby(['Nicotine','Cannabis']).size().unstack()\n",
    "\n",
    "count_matrix_norm = count_matrix.div(count_matrix.sum(axis=1), axis=0)\n",
    "print (count_matrix_norm)"
   ]
  },
  {
   "cell_type": "code",
   "execution_count": null,
   "id": "20203368",
   "metadata": {},
   "outputs": [],
   "source": [
    "plt.figure(figsize=(5,3))\n",
    "count_matrix_norm.plot(kind='bar', stacked=True)\n",
    "\n",
    "plt.title('Frequency of using Cannabis on people who use Nicotine')\n",
    "plt.ylabel('fraction of people')\n",
    "plt.xlabel('Nicotine and Cannabis usage')\n",
    "plt.legend(loc='upper center', bbox_to_anchor=(1.1, 1))\n",
    "\n",
    "plt.show()"
   ]
  },
  {
   "cell_type": "code",
   "execution_count": null,
   "id": "92567300",
   "metadata": {},
   "outputs": [],
   "source": [
    "print (df.head())"
   ]
  },
  {
   "cell_type": "code",
   "execution_count": null,
   "id": "694a3f9d",
   "metadata": {},
   "outputs": [],
   "source": [
    "\n",
    "# #print (df.head())\n",
    "\n",
    "dataset = [df[df['Gender']=='0']['SS'].values,\n",
    "           df[df['Gender']=='1']['SS'].values]\n",
    "\n",
    "#print (dataset)\n",
    "plt.violinplot(dataset = dataset)\n",
    "plt.xticks([1,2],['Male','Female'])\n",
    "#plt.ylabel('Sensation seeking value')\n",
    "plt.title('sensation seeking value')\n",
    "plt.show()"
   ]
  },
  {
   "cell_type": "code",
   "execution_count": null,
   "id": "0152ccd9",
   "metadata": {},
   "outputs": [],
   "source": [
    "\n",
    "# #print (df.head())\n",
    "\n",
    "dataset = [df[df['Gender']=='0']['Oscore'].values,\n",
    "           df[df['Gender']=='1']['Oscore'].values]\n",
    "\n",
    "#print (dataset)\n",
    "plt.violinplot(dataset = dataset)\n",
    "plt.xticks([1,2],['Male','Female'])\n",
    "#plt.ylabel('Open to experience value')\n",
    "plt.title('Personality values')\n",
    "plt.show()"
   ]
  },
  {
   "cell_type": "markdown",
   "id": "bbe1b608",
   "metadata": {},
   "source": [
    "## Splitting"
   ]
  },
  {
   "cell_type": "code",
   "execution_count": null,
   "id": "d7e82e19",
   "metadata": {},
   "outputs": [],
   "source": [
    "from sklearn.model_selection import train_test_split, KFold,StratifiedKFold\n",
    "y = df['Cannabis']\n",
    "X = df.iloc[:, 0:12]\n",
    "\n",
    "#print (X)"
   ]
  },
  {
   "cell_type": "code",
   "execution_count": null,
   "id": "e82d34f2",
   "metadata": {},
   "outputs": [],
   "source": [
    "random_state = 42\n",
    "\n",
    "# first split to separate out the training set\n",
    "X_train, X_other, y_train, y_other = train_test_split(X,y,\\\n",
    "                    train_size = 0.6,random_state = random_state)\n",
    "print('training set: \\n',X_train.shape, y_train.shape) # 80% of points are in train\n",
    "print('X_other and y_other shpes: \\n',X_other.shape, y_other.shape) # 20% of points are in other\n",
    "\n",
    "# second split to separate out the validation and test sets\n",
    "X_val, X_test, y_val, y_test = train_test_split(X_other,y_other,\\\n",
    "                    train_size = 0.5,random_state = random_state)\n",
    "print('validation set: \\n',X_val.shape, y_val.shape) # 10% of points are in validation\n",
    "print('test set: \\n',X_test.shape, y_test.shape, '\\n') # 10% of points are in test\n",
    "\n",
    "print('X train head: \\n',X_train.head())\n",
    "\n",
    "####################################################################################################\n",
    "\n",
    "# # Stratified train_test_split, different from normal train_test_split\n",
    "# X_train, X_other, y_train, y_other = train_test_split(X,y,train_size = 0.6,stratify=y,random_state=random_state)\n",
    "# X_val, X_test, y_val, y_test = train_test_split(X_other,y_other,train_size = 0.5,stratify=y_other,random_state=random_state)\n",
    "# print('**balance with stratification:**')\n",
    "# # very little variation (in the 4th decimal point only) which is important if the problem is imbalanced\n",
    "# print(np.unique(y_train,return_counts=True))\n",
    "# print(np.unique(y_val,return_counts=True))\n",
    "# print(np.unique(y_test,return_counts=True))\n",
    "\n",
    "# ##############################################################################################\n",
    "\n",
    "# # stratified train-test split\n",
    "# X_other, X_test, y_other, y_test = train_test_split(X,y,test_size = 0.2,stratify=y,random_state=random_state)\n",
    "# print('test balance:',np.unique(y_test,return_counts=True))\n",
    "\n",
    "# # do StratifiedKFold split on other\n",
    "# kf = StratifiedKFold(n_splits=4,shuffle=True,random_state=random_state)\n",
    "# for train_index, val_index in kf.split(X_other,y_other):\n",
    "#     print('new fold')\n",
    "#     X_train = X_other.iloc[train_index]\n",
    "#     y_train = y_other.iloc[train_index]\n",
    "#     X_val = X_other.iloc[val_index]\n",
    "#     y_val = y_other.iloc[val_index]\n",
    "#     print(np.unique(y_train,return_counts=True))\n",
    "#     print(np.unique(y_val,return_counts=True))"
   ]
  },
  {
   "cell_type": "markdown",
   "id": "3cd59780",
   "metadata": {},
   "source": [
    "## Preprocessing"
   ]
  },
  {
   "cell_type": "code",
   "execution_count": null,
   "id": "3f5d7c2e",
   "metadata": {},
   "outputs": [],
   "source": [
    "from sklearn.preprocessing import OneHotEncoder, OrdinalEncoder, MinMaxScaler, StandardScaler\n",
    "from sklearn.compose import ColumnTransformer\n",
    "from sklearn.pipeline import Pipeline"
   ]
  },
  {
   "cell_type": "code",
   "execution_count": null,
   "id": "c02a86b4",
   "metadata": {},
   "outputs": [],
   "source": [
    "# collect which encoder to use on each feature\n",
    "# needs to be done manually\n",
    "#ordinal_ftrs = ['Age'] #Can be ranked\n",
    "ordinal_ftrs = ['Age','Education'] #Can be ranked\n",
    "\n",
    "#ordinal_cats = [['0','1','2','3','4','5']]\n",
    "ordinal_cats = [['0','1','2','3','4','5'],['0','1','2','3','4','5','6','7','8']]\n",
    "\n",
    "#ordinal_cats = [['25-34', '45-54', '35-44', '55-64', '65+', '18-24']]\n",
    "onehot_ftrs = ['Gender','Country','Ethnicity']\n",
    "#minmax_ftrs = ['Education','SS']\n",
    "std_ftrs = ['Nscore','Escore','Oscore','Ascore','Cscore','Impulsive','SS']\n",
    "\n",
    "# collect all the encoders\n",
    "preprocessor = ColumnTransformer(\n",
    "    transformers=[\n",
    "        ('ord', OrdinalEncoder(categories = ordinal_cats), ordinal_ftrs),\n",
    "        ('onehot', OneHotEncoder(sparse=False,handle_unknown='ignore'), onehot_ftrs),\n",
    "        ('std', StandardScaler(), std_ftrs)])\n",
    "\n",
    "clf = Pipeline(steps=[('preprocessor', preprocessor)]) # for now we only preprocess \n",
    "                                                       # later on we will add other steps here\n",
    "\n",
    "X_train_prep = clf.fit_transform(X_train)\n",
    "X_val_prep = clf.transform(X_val)\n",
    "X_test_prep = clf.transform(X_test)\n",
    "\n",
    "print('Shape of X_train: \\n', X_train.shape, '\\n')\n",
    "print('Shape of X_train prep: \\n', X_train_prep.shape, '\\n')\n",
    "print('Shape of X_val: \\n', X_val.shape, '\\n')\n",
    "print('Shape of X_val_prep: \\n', X_val_prep.shape, '\\n')\n",
    "print('Shape of X_test: \\n', X_test.shape, '\\n')\n",
    "print('Shape of X_test_prep: \\n', X_test_prep.shape, '\\n')\n",
    "\n",
    "print('X_train prep: \\n',X_train_prep)\n"
   ]
  },
  {
   "cell_type": "code",
   "execution_count": null,
   "id": "8f15a87b",
   "metadata": {},
   "outputs": [],
   "source": [
    "#print (X_train.head())"
   ]
  },
  {
   "cell_type": "code",
   "execution_count": null,
   "id": "28b92cd2",
   "metadata": {},
   "outputs": [],
   "source": [
    "drugs = ['Amphet','Benzos','Cannabis','Coke','Crack','Ecstasy','Heroin','LSD','Meth','Mushrooms']"
   ]
  },
  {
   "cell_type": "code",
   "execution_count": null,
   "id": "961ba05d",
   "metadata": {},
   "outputs": [],
   "source": [
    "def drug_encoder(x):\n",
    "    if x == 'CL0':\n",
    "        return 0\n",
    "    elif x == 'CL1':\n",
    "        return 1\n",
    "    elif x == 'CL2':\n",
    "        return 2\n",
    "    elif x == 'CL3':\n",
    "        return 3\n",
    "    elif x == 'CL4':\n",
    "        return 4\n",
    "    elif x == 'CL4':\n",
    "        return 5\n",
    "    elif x == 'CL5':\n",
    "        return 6\n",
    "    else:\n",
    "        return 7"
   ]
  },
  {
   "cell_type": "code",
   "execution_count": null,
   "id": "86a968f3",
   "metadata": {},
   "outputs": [],
   "source": [
    "for column in drugs:\n",
    "    df[column] = df[column].apply(drug_encoder)"
   ]
  },
  {
   "cell_type": "code",
   "execution_count": null,
   "id": "6941c74e",
   "metadata": {},
   "outputs": [],
   "source": [
    "df['Gender'] = df['Gender'].astype(str).astype(int)"
   ]
  },
  {
   "cell_type": "code",
   "execution_count": null,
   "id": "1f3a4b5b",
   "metadata": {},
   "outputs": [],
   "source": [
    "print (df.head())"
   ]
  },
  {
   "cell_type": "code",
   "execution_count": null,
   "id": "9dfdb710",
   "metadata": {},
   "outputs": [],
   "source": [
    "df['Gender'].dtypes"
   ]
  },
  {
   "cell_type": "code",
   "execution_count": null,
   "id": "653c5a46",
   "metadata": {},
   "outputs": [],
   "source": [
    "df['Education'].dtypes"
   ]
  },
  {
   "cell_type": "code",
   "execution_count": null,
   "id": "32408fb0",
   "metadata": {},
   "outputs": [],
   "source": [
    "# df['Education'].astype(object).astype(int)\n",
    "#pd.to_numeric(s, errors='coerce').convert_dtypes() \n",
    "df['Education'] = df['Education'].astype(str).astype(int)"
   ]
  },
  {
   "cell_type": "code",
   "execution_count": null,
   "id": "4e264cdb",
   "metadata": {},
   "outputs": [],
   "source": [
    "#df['Country'] = df['Country'].astype(str).astype(int)"
   ]
  },
  {
   "cell_type": "code",
   "execution_count": null,
   "id": "1dc8ff4e",
   "metadata": {},
   "outputs": [],
   "source": [
    "df['Education'].dtypes"
   ]
  },
  {
   "cell_type": "code",
   "execution_count": null,
   "id": "0c32bf1f",
   "metadata": {},
   "outputs": [],
   "source": [
    "# df = df.drop(['Amphet','Benzos','Coke','Crack','Ecstasy','Heroin','LSD','Meth','Mushrooms'], axis=1)"
   ]
  },
  {
   "cell_type": "code",
   "execution_count": null,
   "id": "4f03a9fb",
   "metadata": {},
   "outputs": [],
   "source": [
    "# print (df.head())"
   ]
  },
  {
   "cell_type": "code",
   "execution_count": null,
   "id": "cd751c69",
   "metadata": {},
   "outputs": [],
   "source": [
    "feature_name = preprocessor.get_feature_names_out()\n",
    "\n",
    "print (feature_name)\n",
    "print (len(feature_name), '\\n')\n",
    "\n",
    "features_test = np.array(feature_name)\n",
    "\n",
    "print (features_test)\n",
    "print (len(features_test))"
   ]
  },
  {
   "cell_type": "code",
   "execution_count": null,
   "id": "ee00c7b5",
   "metadata": {},
   "outputs": [],
   "source": [
    "pea = df.corr(method = 'pearson')\n",
    "#print (pea)\n",
    "\n",
    "df.corr(method = 'pearson')"
   ]
  },
  {
   "cell_type": "code",
   "execution_count": null,
   "id": "f7962e4e",
   "metadata": {},
   "outputs": [],
   "source": [
    "plt.figure(figsize=(16,16), dpi = 150)\n",
    "\n",
    "#ax = sns.heatmap(pea, annot=True, annot_kws={'size':8})\n",
    "\n",
    "#ax.set_xticklabels(fontsize = 16)\n",
    "#    ax = sns.heatmap(uniform_data, annot=True, fmt='.1f', annot_kws={'size':6})\n",
    "with plt.style.context({'axes.labelsize':24,\n",
    "                        'xtick.labelsize':24,\n",
    "                        'ytick.labelsize':24}):\n",
    "    ax = sns.heatmap(pea, annot=True, fmt='.2f', annot_kws={'size':11})"
   ]
  },
  {
   "cell_type": "code",
   "execution_count": null,
   "id": "da01f599",
   "metadata": {},
   "outputs": [],
   "source": []
  },
  {
   "cell_type": "code",
   "execution_count": null,
   "id": "ba54ea67",
   "metadata": {},
   "outputs": [],
   "source": []
  },
  {
   "cell_type": "code",
   "execution_count": null,
   "id": "92c1f764",
   "metadata": {},
   "outputs": [],
   "source": [
    "df['Amphet'] = df['Amphet'].astype(int).astype(str)\n",
    "df['Benzos'] = df['Benzos'].astype(int).astype(str)\n",
    "df['Coke'] = df['Coke'].astype(int).astype(str)\n",
    "df['Crack'] = df['Crack'].astype(int).astype(str)\n",
    "df['Ecstasy'] = df['Ecstasy'].astype(int).astype(str)\n",
    "df['Heroin'] = df['Heroin'].astype(int).astype(str)\n",
    "df['LSD'] = df['LSD'].astype(int).astype(str)\n",
    "df['Meth'] = df['Meth'].astype(int).astype(str)\n",
    "df['Mushrooms'] = df['Mushrooms'].astype(int).astype(str)"
   ]
  },
  {
   "cell_type": "code",
   "execution_count": null,
   "id": "d8689e70",
   "metadata": {},
   "outputs": [],
   "source": [
    "pea = df.corr(method = 'pearson')\n",
    "#print (pea)\n",
    "\n",
    "df.corr(method = 'pearson')"
   ]
  },
  {
   "cell_type": "code",
   "execution_count": null,
   "id": "2f6d506a",
   "metadata": {
    "scrolled": true
   },
   "outputs": [],
   "source": [
    "plt.figure(figsize=(10,10),dpi = 150)\n",
    "\n",
    "#ax = sns.heatmap(pea, annot=True, cmap=\"YlGnBu\")\n",
    "\n",
    "with plt.style.context({'axes.labelsize':24,\n",
    "                        'xtick.labelsize':24,\n",
    "                        'ytick.labelsize':24}):\n",
    "    ax = sns.heatmap(pea, annot=True, cmap=\"YlGnBu\", fmt='.2f', annot_kws={'size':13})"
   ]
  },
  {
   "cell_type": "code",
   "execution_count": null,
   "id": "dddef40e",
   "metadata": {},
   "outputs": [],
   "source": [
    "#######################################################\n",
    "#### 나중에 컨트리랑 인종 인코더 킬경우 같이 켜야함\n",
    "#######################################################\n",
    "\n",
    "df['Education'] = df['Education'].astype(int).astype(str)\n",
    "df['Gender'] = df['Gender'].astype(int).astype(str)\n",
    "df['Country'] = df['Country'].astype(int).astype(str)\n",
    "df['Ethnicity'] = df['Ethnicity'].astype(int).astype(str)"
   ]
  },
  {
   "cell_type": "code",
   "execution_count": null,
   "id": "f8e0839c",
   "metadata": {},
   "outputs": [],
   "source": [
    "print (df['Education'].dtypes)\n",
    "print (df['Gender'].dtypes)\n",
    "print (df['Cannabis'].dtypes)\n",
    "print (df['Amphet'].dtypes)"
   ]
  },
  {
   "cell_type": "code",
   "execution_count": null,
   "id": "ad2fef4c",
   "metadata": {},
   "outputs": [],
   "source": [
    "df['Amphet'] = df['Amphet'].astype(str).astype(int)\n",
    "df['Benzos'] = df['Benzos'].astype(str).astype(int)\n",
    "df['Coke'] = df['Coke'].astype(str).astype(int)\n",
    "df['Crack'] = df['Crack'].astype(str).astype(int)\n",
    "df['Ecstasy'] = df['Ecstasy'].astype(str).astype(int)\n",
    "df['Heroin'] = df['Heroin'].astype(str).astype(int)\n",
    "df['LSD'] = df['LSD'].astype(str).astype(int)\n",
    "df['Meth'] = df['Meth'].astype(str).astype(int)\n",
    "df['Mushrooms'] = df['Mushrooms'].astype(str).astype(int)"
   ]
  },
  {
   "cell_type": "code",
   "execution_count": null,
   "id": "e515fc19",
   "metadata": {},
   "outputs": [],
   "source": [
    "print (df['Meth'].dtype)"
   ]
  },
  {
   "cell_type": "markdown",
   "id": "d0036de3",
   "metadata": {},
   "source": [
    "## Feature Engineering/Selection"
   ]
  },
  {
   "cell_type": "code",
   "execution_count": null,
   "id": "0f4ebe66",
   "metadata": {},
   "outputs": [],
   "source": [
    "#df = pd.read_csv('Drug_Consumption.csv')\n",
    "#df = df.drop(['ID', 'Alcohol', 'Amyl','Caff','Choc','Ketamine','Legalh','Nicotine','VSA'], axis=1)"
   ]
  },
  {
   "cell_type": "code",
   "execution_count": null,
   "id": "6fb540dc",
   "metadata": {},
   "outputs": [],
   "source": [
    "print (df.head())"
   ]
  },
  {
   "cell_type": "code",
   "execution_count": null,
   "id": "cf89a22f",
   "metadata": {},
   "outputs": [],
   "source": [
    "# df = pd.read_csv('Drug_Consumption.csv')\n",
    "# df = df.drop(['ID', 'Alcohol', 'Amyl','Caff','Choc','Ketamine','Legalh','Nicotine','VSA'], axis=1)"
   ]
  },
  {
   "cell_type": "code",
   "execution_count": null,
   "id": "04cd74e1",
   "metadata": {},
   "outputs": [],
   "source": [
    "# import numpy as np\n",
    "# from sklearn.model_selection import train_test_split, KFold\n",
    "# from sklearn.preprocessing import StandardScaler, OneHotEncoder\n",
    "# from sklearn.compose import ColumnTransformer\n",
    "# from sklearn.pipeline import Pipeline\n",
    "from sklearn.feature_selection import f_regression, f_classif, mutual_info_regression, mutual_info_classif, SelectKBest\n",
    "# random_state =42\n",
    "\n",
    "# y = df['Cannabis']\n",
    "# #X = df.loc[:, df.columns != 'Y'] # Use everything except the Y column\n",
    "# X = df.iloc[:, 0:12]\n",
    "\n",
    "# #print (X.head())\n",
    "\n",
    "# # 80% in train, 20% in other\n",
    "# X_train, X_other, y_train, y_other = train_test_split(X,y,train_size = 0.6,random_state=random_state)\n",
    "\n",
    "# # from 20% in other, 10% in validation, 10% in test set\n",
    "# X_val, X_test, y_val, y_test = train_test_split(X_other,y_other,train_size = 0.5,random_state=random_state)\n",
    "\n",
    "# # categorical & continuous\n",
    "# category_feature = ['Gender','Education', 'Country', 'Ethnicity', 'Age']\n",
    "# continuous_feature = ['Nscore','Escore','Oscore','Ascore','Cscore','Impulsive','SS']\n",
    "\n",
    "\n",
    "# preprocessor = ColumnTransformer(\n",
    "#     transformers=[\n",
    "#         ('onehot', OneHotEncoder(sparse=False,handle_unknown='ignore'), category_feature),\n",
    "#         ('std', StandardScaler(), continuous_feature)])\n",
    "\n",
    "# clf = Pipeline(steps=[('preprocessor', preprocessor)]) # for now we only preprocess \n",
    "#                                                        # later on we will add other steps here\n",
    "\n",
    "# X_train_prep = clf.fit_transform(X_train)\n",
    "# X_val_prep = clf.transform(X_val)\n",
    "# X_test_prep = clf.transform(X_test)\n",
    "\n",
    "# print(X_train.shape)\n",
    "# print(X_train_prep.shape)\n",
    "# print(X_train_prep)\n"
   ]
  },
  {
   "cell_type": "code",
   "execution_count": null,
   "id": "52a38845",
   "metadata": {},
   "outputs": [],
   "source": [
    "feature_name = preprocessor.get_feature_names_out()\n",
    "\n",
    "print (feature_name.shape)\n",
    "print (feature_name)\n",
    "\n",
    "features_test = np.array(feature_name)\n",
    "\n",
    "print (features_test.shape)\n",
    "print (features_test)"
   ]
  },
  {
   "cell_type": "code",
   "execution_count": null,
   "id": "3e63670b",
   "metadata": {},
   "outputs": [],
   "source": [
    "print (X_train.head())"
   ]
  },
  {
   "cell_type": "code",
   "execution_count": null,
   "id": "09ff14d7",
   "metadata": {},
   "outputs": [],
   "source": [
    "f_test, p_value = f_classif(X_train_prep,y_train)\n",
    "#print (f_test)\n",
    "\n",
    "mi = mutual_info_classif(X_train_prep,y_train)\n",
    "\n",
    "print (\"f_classif \\n\",f_test, \"\\n\")\n",
    "#print (\"f_classif \\n\",f_test_class, \"\\n\")\n",
    "print (\"mutual_info_classif \\n\",mi, \"\\n\")\n",
    "#print (\"mutual_info_classif \\n\",d, \"\\n\")\n",
    "\n",
    "#plt.bar(X,y)"
   ]
  },
  {
   "cell_type": "code",
   "execution_count": null,
   "id": "e63147bc",
   "metadata": {},
   "outputs": [],
   "source": [
    "indices = np.argsort(f_test)[::-1][:5]\n",
    "#print (f_test)\n",
    "#print (f_test[indices])\n",
    "features_test = np.array(feature_name)\n",
    "\n",
    "fig = plt.figure()\n",
    "ax = fig.add_axes([0,0,1,1])\n",
    "ax.barh(features_test[indices],f_test[indices])#, tick_label = ['Country, United Kingdom', 'Country, United States','SS','Age, 18-24','Oscore'])\n",
    "ax.set_xlabel('f-statistic')\n",
    "\n",
    "# Cannabis 랑 dependency factor 가 높다"
   ]
  },
  {
   "cell_type": "code",
   "execution_count": null,
   "id": "c8e1f830",
   "metadata": {},
   "outputs": [],
   "source": [
    "####################################################################\n",
    "# 이상하게 preprocessing 할때, 오디널 인코더에 교육을 넣으면 이렇게되네? 나중에 교육을 다른데로 빼던가 ㄱㄱ\n",
    "######################################################################\n",
    "\n",
    "indices = np.argsort(mi)[::-1][:5]\n",
    "#print (mi)\n",
    "#print (mi[indices])\n",
    "features_test = np.array(feature_name)\n",
    "\n",
    "fig = plt.figure()\n",
    "ax = fig.add_axes([0,0,1,1])\n",
    "ax.barh(features_test[indices],mi[indices])#, tick_label = ['Country, United Kingdom','SS', 'Country United States','Age 18-24','Oscore'])\n",
    "ax.set_xlabel('mutual information')"
   ]
  },
  {
   "cell_type": "code",
   "execution_count": null,
   "id": "d621ac36",
   "metadata": {},
   "outputs": [],
   "source": [
    "# stacked bars\n",
    "\n",
    "# fig,ax = plt.subplots()\n",
    "# #ax= fig.add_axes([])\n",
    "#ax.scatter(df['Country'],df['Cannabis'])\n",
    "\n",
    "# ax.set_xlabel('Country')\n",
    "# ax.set_ylabel('Y')\n",
    "\n",
    "####################################################################################\n",
    "#test_df = df['']\n",
    "#test_df = pd.DataFrame(data,columns=['Education','Oscore'])\n",
    "#fig, ax = plt.subplots()\n",
    "\n",
    "#plt.figure(figsize=(5,3))\n",
    "#df[['Escore','Age']].plot()\n",
    "#test_df.plot()\n",
    "\n",
    "#df.plot.box(x=df['Education'], y='Oscore')\n",
    "\n",
    "#df.boxplot(by ='Country', column =['Cannabis'],showfliers=None, grid = False, vert = False)\n",
    "\n",
    "#df.T.boxplot(vert=False)\n",
    "\n",
    "\n",
    "\n",
    "#plt.title('Education vs Sensation seeking')\n",
    "#plt.xlabel('Sensation seeking value')\n",
    "#fig.autofmt_xdate()\n",
    "\n",
    "plt.show()"
   ]
  },
  {
   "cell_type": "markdown",
   "id": "37f8e07e",
   "metadata": {},
   "source": [
    "## Predict Cannabis usage, confusion matrix"
   ]
  },
  {
   "cell_type": "code",
   "execution_count": null,
   "id": "0bb9fd32",
   "metadata": {},
   "outputs": [],
   "source": [
    "from sklearn.metrics import ConfusionMatrixDisplay\n",
    "from sklearn.metrics import confusion_matrix"
   ]
  },
  {
   "cell_type": "code",
   "execution_count": null,
   "id": "b9d27c7c",
   "metadata": {},
   "outputs": [],
   "source": [
    "print (len(y_other))\n",
    "print (len(y_train))\n",
    "print (len(y_val))\n",
    "print (len(y_test))"
   ]
  },
  {
   "cell_type": "code",
   "execution_count": null,
   "id": "e5b4a5a0",
   "metadata": {},
   "outputs": [],
   "source": [
    "# cm = confusion_matrix(y_other,y_train)\n",
    "# disp = ConfusionMatrixDisplay(cm)#,display_labels=['class 0', 'class 1', 'class 2'])\n",
    "# disp.plot()\n",
    "# plt.tight_layout()\n",
    "# plt.show()"
   ]
  },
  {
   "cell_type": "code",
   "execution_count": null,
   "id": "426cb60e",
   "metadata": {},
   "outputs": [],
   "source": []
  },
  {
   "cell_type": "code",
   "execution_count": null,
   "id": "025df4bd",
   "metadata": {},
   "outputs": [],
   "source": []
  },
  {
   "cell_type": "code",
   "execution_count": null,
   "id": "c24401cb",
   "metadata": {},
   "outputs": [],
   "source": []
  },
  {
   "cell_type": "code",
   "execution_count": null,
   "id": "b45bde22",
   "metadata": {},
   "outputs": [],
   "source": [
    "from sklearn.linear_model import LogisticRegression, RidgeClassifier\n",
    "from sklearn.ensemble import RandomForestClassifier"
   ]
  },
  {
   "cell_type": "code",
   "execution_count": null,
   "id": "b2245155",
   "metadata": {},
   "outputs": [],
   "source": [
    "#print (y_val)\n",
    "#model = LogisticRegression()\n",
    "model = RandomForestClassifier()"
   ]
  },
  {
   "cell_type": "code",
   "execution_count": null,
   "id": "6141eb6f",
   "metadata": {},
   "outputs": [],
   "source": [
    "model.fit(X_train, y_train)"
   ]
  },
  {
   "cell_type": "code",
   "execution_count": null,
   "id": "e99cb641",
   "metadata": {},
   "outputs": [],
   "source": [
    "yhat = model.predict(X_test)"
   ]
  },
  {
   "cell_type": "code",
   "execution_count": null,
   "id": "9dca3452",
   "metadata": {},
   "outputs": [],
   "source": [
    "cm = confusion_matrix(y_test,yhat)\n",
    "disp = ConfusionMatrixDisplay(cm,display_labels=['CL 0', 'CL 1', 'CL 2', 'CL 3', 'CL 4', 'CL 5', 'CL 6'])\n",
    "disp.plot()\n",
    "plt.tight_layout()\n",
    "plt.show()"
   ]
  },
  {
   "cell_type": "code",
   "execution_count": null,
   "id": "117eaaf2",
   "metadata": {},
   "outputs": [],
   "source": [
    "model = RidgeClassifier()\n",
    "model.fit(X_train, y_train)\n",
    "yhat = model.predict(X_test)"
   ]
  },
  {
   "cell_type": "code",
   "execution_count": null,
   "id": "f83c648b",
   "metadata": {},
   "outputs": [],
   "source": [
    "cm = confusion_matrix(y_test,yhat)\n",
    "disp = ConfusionMatrixDisplay(cm,display_labels=['CL 0', 'CL 1', 'CL 2', 'CL 3', 'CL 4', 'CL 5', 'CL 6'])\n",
    "disp.plot()\n",
    "plt.tight_layout()\n",
    "plt.show()"
   ]
  },
  {
   "cell_type": "code",
   "execution_count": null,
   "id": "ca6ecc3f",
   "metadata": {},
   "outputs": [],
   "source": [
    "from sklearn.metrics import roc_curve, precision_recall_curve\n",
    "y_true = y_test\n",
    "pred_prob_class1 = yhat\n",
    "\n",
    "fpr,tpr,p_crits = precision_recall_curve(y_true,pred_prob_class1)\n"
   ]
  },
  {
   "cell_type": "code",
   "execution_count": null,
   "id": "6eaaa691",
   "metadata": {},
   "outputs": [],
   "source": [
    "# count_matrix = df.groupby(['Education']).agg(\n",
    "#                crack_count =('Crack', 'count'))\n",
    "\n",
    "# count_matrix_norm = count_matrix.div(count_matrix.sum(axis=1), axis=0)\n",
    "# print (count_matrix_norm)"
   ]
  },
  {
   "cell_type": "code",
   "execution_count": null,
   "id": "020126f0",
   "metadata": {},
   "outputs": [],
   "source": [
    "# cols = ['Amphet','Benzos','Coke','Crack','Ecstasy','Heroin','LSD','Meth','Mushrooms']\n",
    "# df['combined'] = df[cols].apply(lambda row: '_'.join(row.values.astype(str)), axis=1)\n",
    "\n",
    "# print (df['combined'])"
   ]
  },
  {
   "cell_type": "code",
   "execution_count": null,
   "id": "eba6635a",
   "metadata": {},
   "outputs": [],
   "source": [
    "# count_matrix = df.groupby(['Country','combined']).size().unstack()\n",
    "\n",
    "# count_matrix_norm = count_matrix.div(count_matrix.sum(axis=1), axis=0)\n",
    "# print (count_matrix_norm)"
   ]
  },
  {
   "cell_type": "code",
   "execution_count": null,
   "id": "db8b8b4a",
   "metadata": {},
   "outputs": [],
   "source": [
    "# count_matrix_norm.fillna('0')\n",
    "# #'Amphet','Benzos','Coke','Crack','Ecstasy','Heroin','LSD','Meth','Mushrooms'"
   ]
  },
  {
   "cell_type": "code",
   "execution_count": null,
   "id": "45993151",
   "metadata": {},
   "outputs": [],
   "source": [
    "# plt.figure(figsize=(5,3))\n",
    "# count_matrix_norm.plot(kind='bar', stacked=True)\n",
    "# #count_matrix_norm.plot(kind='bar', stacked=True, legend)\n",
    "\n",
    "\n",
    "# plt.show()"
   ]
  },
  {
   "cell_type": "code",
   "execution_count": null,
   "id": "5ef6dc71",
   "metadata": {},
   "outputs": [],
   "source": []
  },
  {
   "cell_type": "code",
   "execution_count": null,
   "id": "21bd946d",
   "metadata": {},
   "outputs": [],
   "source": [
    "# Coulmntransformer\n",
    "# OneHotEncoder"
   ]
  },
  {
   "cell_type": "code",
   "execution_count": null,
   "id": "5c404186",
   "metadata": {},
   "outputs": [],
   "source": []
  }
 ],
 "metadata": {
  "kernelspec": {
   "display_name": "Python 3 (ipykernel)",
   "language": "python",
   "name": "python3"
  },
  "language_info": {
   "codemirror_mode": {
    "name": "ipython",
    "version": 3
   },
   "file_extension": ".py",
   "mimetype": "text/x-python",
   "name": "python",
   "nbconvert_exporter": "python",
   "pygments_lexer": "ipython3",
   "version": "3.10.5"
  }
 },
 "nbformat": 4,
 "nbformat_minor": 5
}
